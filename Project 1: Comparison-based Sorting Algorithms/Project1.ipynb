{
  "nbformat": 4,
  "nbformat_minor": 0,
  "metadata": {
    "colab": {
      "provenance": [],
      "toc_visible": true
    },
    "kernelspec": {
      "name": "python3",
      "display_name": "Python 3"
    },
    "language_info": {
      "name": "python"
    }
  },
  "cells": [
    {
      "cell_type": "markdown",
      "source": [
        "\n",
        "\n",
        "# Here is a detailed step-by-step implementation"
      ],
      "metadata": {
        "id": "WHU5Z3eZXkTe"
      }
    },
    {
      "cell_type": "markdown",
      "source": [
        "## Step 1: Import Necessary Libraries"
      ],
      "metadata": {
        "id": "sUj_CRl_X51l"
      }
    },
    {
      "cell_type": "code",
      "source": [
        "import time\n",
        "import random\n",
        "import numpy as np\n",
        "import matplotlib.pyplot as plt\n"
      ],
      "metadata": {
        "id": "-bA_oA42X4JG"
      },
      "execution_count": 14,
      "outputs": []
    },
    {
      "cell_type": "markdown",
      "source": [
        "## Step 2: Implement Sorting Algorithms\n",
        "\n",
        "\n"
      ],
      "metadata": {
        "id": "gy8fKvhlYHdc"
      }
    },
    {
      "cell_type": "markdown",
      "source": [
        "### Insertion Sort"
      ],
      "metadata": {
        "id": "xMSadqzvYfmL"
      }
    },
    {
      "cell_type": "code",
      "source": [
        "def insertion_sort(arr):\n",
        "    for i in range(1, len(arr)):\n",
        "        key = arr[i]\n",
        "        j = i - 1\n",
        "        while j >= 0 and key < arr[j]:\n",
        "            arr[j + 1] = arr[j]\n",
        "            j -= 1\n",
        "        arr[j + 1] = key\n"
      ],
      "metadata": {
        "id": "NQvUPKsbYKDm"
      },
      "execution_count": 15,
      "outputs": []
    },
    {
      "cell_type": "markdown",
      "source": [
        "### Merge Sort"
      ],
      "metadata": {
        "id": "f1ucs0FSYkmt"
      }
    },
    {
      "cell_type": "code",
      "source": [
        "def merge_sort(arr):\n",
        "    if len(arr) > 1:\n",
        "        mid = len(arr) // 2\n",
        "        L = arr[:mid]\n",
        "        R = arr[mid:]\n",
        "\n",
        "        merge_sort(L)\n",
        "        merge_sort(R)\n",
        "\n",
        "        i = j = k = 0\n",
        "\n",
        "        while i < len(L) and j < len(R):\n",
        "            if L[i] < R[j]:\n",
        "                arr[k] = L[i]\n",
        "                i += 1\n",
        "            else:\n",
        "                arr[k] = R[j]\n",
        "                j += 1\n",
        "            k += 1\n",
        "\n",
        "        while i < len(L):\n",
        "            arr[k] = L[i]\n",
        "            i += 1\n",
        "            k += 1\n",
        "\n",
        "        while j < len(R):\n",
        "            arr[k] = R[j]\n",
        "            j += 1\n",
        "            k += 1\n"
      ],
      "metadata": {
        "id": "IAEs2mHJYvYU"
      },
      "execution_count": 16,
      "outputs": []
    },
    {
      "cell_type": "markdown",
      "source": [
        "### Heap Sort"
      ],
      "metadata": {
        "id": "IAo6neXcYyhj"
      }
    },
    {
      "cell_type": "code",
      "source": [
        "def heapify(arr, n, i):\n",
        "    largest = i\n",
        "    l = 2 * i + 1\n",
        "    r = 2 * i + 2\n",
        "\n",
        "    if l < n and arr[l] > arr[largest]:\n",
        "        largest = l\n",
        "\n",
        "    if r < n and arr[r] > arr[largest]:\n",
        "        largest = r\n",
        "\n",
        "    if largest != i:\n",
        "        arr[i], arr[largest] = arr[largest], arr[i]\n",
        "        heapify(arr, n, largest)\n",
        "\n",
        "def heap_sort(arr):\n",
        "    n = len(arr)\n",
        "\n",
        "    for i in range(n // 2 - 1, -1, -1):\n",
        "        heapify(arr, n, i)\n",
        "\n",
        "    for i in range(n - 1, 0, -1):\n",
        "        arr[i], arr[0] = arr[0], arr[i]\n",
        "        heapify(arr, i, 0)\n"
      ],
      "metadata": {
        "id": "3yYpXdKlY1pt"
      },
      "execution_count": 17,
      "outputs": []
    },
    {
      "cell_type": "markdown",
      "source": [
        "### In-Place Quicksort\n"
      ],
      "metadata": {
        "id": "JHcPjsTyY3k_"
      }
    },
    {
      "cell_type": "code",
      "source": [
        "def partition(arr, low, high):\n",
        "    pivot = arr[high]\n",
        "    i = low - 1\n",
        "\n",
        "    for j in range(low, high):\n",
        "        if arr[j] <= pivot:\n",
        "            i += 1\n",
        "            arr[i], arr[j] = arr[j], arr[i]\n",
        "\n",
        "    arr[i + 1], arr[high] = arr[high], arr[i + 1]\n",
        "    return i + 1\n",
        "\n",
        "def quicksort(arr, low, high):\n",
        "    if low < high:\n",
        "        pi = partition(arr, low, high)\n",
        "        quicksort(arr, low, pi - 1)\n",
        "        quicksort(arr, pi + 1, high)\n"
      ],
      "metadata": {
        "id": "_d-vL0-KY6iU"
      },
      "execution_count": 18,
      "outputs": []
    },
    {
      "cell_type": "markdown",
      "source": [
        "### Modified Quicksort\n"
      ],
      "metadata": {
        "id": "qEdZdDLCY9FB"
      }
    },
    {
      "cell_type": "code",
      "source": [
        "def median_of_three(arr, low, high):\n",
        "    mid = (low + high) // 2\n",
        "    if arr[mid] < arr[low]:\n",
        "        arr[low], arr[mid] = arr[mid], arr[low]\n",
        "    if arr[high] < arr[low]:\n",
        "        arr[low], arr[high] = arr[high], arr[low]\n",
        "    if arr[high] < arr[mid]:\n",
        "        arr[mid], arr[high] = arr[high], arr[mid]\n",
        "    arr[mid], arr[high - 1] = arr[high - 1], arr[mid]\n",
        "    return arr[high - 1]\n",
        "\n",
        "def modified_partition(arr, low, high):\n",
        "    pivot = median_of_three(arr, low, high)\n",
        "    i = low\n",
        "    j = high - 1\n",
        "\n",
        "    while True:\n",
        "        while arr[i] < pivot:\n",
        "            i += 1\n",
        "        while arr[j] > pivot:\n",
        "            j -= 1\n",
        "        if i >= j:\n",
        "            break\n",
        "        arr[i], arr[j] = arr[j], arr[i]\n",
        "        i += 1\n",
        "        j -= 1\n",
        "\n",
        "    arr[i], arr[high - 1] = arr[high - 1], arr[i]\n",
        "    return i\n",
        "\n",
        "def modified_quicksort(arr, low, high):\n",
        "    if low + 10 <= high:\n",
        "        pi = modified_partition(arr, low, high)\n",
        "        modified_quicksort(arr, low, pi - 1)\n",
        "        modified_quicksort(arr, pi + 1, high)\n",
        "    else:\n",
        "        insertion_sort(arr[low:high + 1])\n"
      ],
      "metadata": {
        "id": "Rd6xCOJiZANN"
      },
      "execution_count": 19,
      "outputs": []
    },
    {
      "cell_type": "markdown",
      "source": [
        "## Step 3: Generate Input Data and Measure Execution Time\n"
      ],
      "metadata": {
        "id": "koaiC2SeZCXS"
      }
    },
    {
      "cell_type": "code",
      "source": [
        "def generate_random_data(size):\n",
        "    return [random.randint(0, 1000000) for _ in range(size)]\n",
        "\n",
        "def measure_execution_time(sort_func, arr):\n",
        "    start_time = time.time()\n",
        "    sort_func(arr)\n",
        "    end_time = time.time()\n",
        "    return end_time - start_time\n",
        "\n",
        "input_sizes = [1000, 2000, 3000, 5000, 10000, 40000, 50000, 60000]\n",
        "runs_per_size = 3\n",
        "\n",
        "results = {\n",
        "    'Insertion Sort': [],\n",
        "    'Merge Sort': [],\n",
        "    'Heap Sort': [],\n",
        "    'In-Place Quicksort': [],\n",
        "    'Modified Quicksort': []\n",
        "}\n",
        "\n",
        "for size in input_sizes:\n",
        "    for sort_name, sort_func in [('Insertion Sort', insertion_sort),\n",
        "                                 ('Merge Sort', merge_sort),\n",
        "                                 ('Heap Sort', heap_sort),\n",
        "                                 ('In-Place Quicksort', lambda arr: quicksort(arr, 0, len(arr) - 1)),\n",
        "                                 ('Modified Quicksort', lambda arr: modified_quicksort(arr, 0, len(arr) - 1))]:\n",
        "        times = []\n",
        "        for _ in range(runs_per_size):\n",
        "            data = generate_random_data(size)\n",
        "            time_taken = measure_execution_time(sort_func, data.copy())\n",
        "            times.append(time_taken)\n",
        "        avg_time = sum(times) / runs_per_size\n",
        "        results[sort_name].append(avg_time)\n"
      ],
      "metadata": {
        "id": "-4-fh9NTZIRD"
      },
      "execution_count": 21,
      "outputs": []
    },
    {
      "cell_type": "markdown",
      "source": [
        "## Step 4: Plot the Results\n"
      ],
      "metadata": {
        "id": "FI5i_YB4ZLj7"
      }
    },
    {
      "cell_type": "code",
      "source": [
        "plt.figure(figsize=(10, 6))\n",
        "for sort_name, times in results.items():\n",
        "    plt.plot(input_sizes, times, label=sort_name)\n",
        "\n",
        "plt.xlabel('Input Size')\n",
        "plt.ylabel('Average Execution Time (seconds)')\n",
        "plt.title('Sorting Algorithms Performance Comparison')\n",
        "plt.legend()\n",
        "plt.grid(True)\n",
        "plt.show()\n"
      ],
      "metadata": {
        "colab": {
          "base_uri": "https://localhost:8080/",
          "height": 564
        },
        "id": "QrQhUmUQZNM6",
        "outputId": "e3f29aac-1f07-4754-ec89-f71af818abb8"
      },
      "execution_count": 22,
      "outputs": [
        {
          "output_type": "display_data",
          "data": {
            "text/plain": [
              "<Figure size 1000x600 with 1 Axes>"
            ],
            "image/png": "[encoded data removed]"
          },
          "metadata": {}
        }
      ]
    },
    {
      "cell_type": "markdown",
      "source": [
        "\n",
        "## Step 5: Special Case Performance"
      ],
      "metadata": {
        "id": "iGupWNHgZPQn"
      }
    },
    {
      "cell_type": "markdown",
      "source": [
        "### Already Sorted Array\n"
      ],
      "metadata": {
        "id": "o4N34x_7ZWov"
      }
    },
    {
      "cell_type": "code",
      "source": [
        "# For already sorted arrays\n",
        "for size in input_sizes:\n",
        "    sorted_data = list(range(size))\n",
        "    for sort_name, sort_func in [('Insertion Sort', insertion_sort),\n",
        "                                 ('Merge Sort', merge_sort),\n",
        "                                 ('Heap Sort', heap_sort),\n",
        "                                 ('In-Place Quicksort', lambda arr: quicksort(arr, 0, len(arr) - 1)),\n",
        "                                 ('Modified Quicksort', lambda arr: modified_quicksort(arr, 0, len(arr) - 1))]:\n",
        "        time_taken = measure_execution_time(sort_func, sorted_data.copy())\n",
        "        print(f'{sort_name} with sorted input size {size}: {time_taken:.6f} seconds')\n"
      ],
      "metadata": {
        "colab": {
          "base_uri": "https://localhost:8080/",
          "height": 454
        },
        "id": "d8v3NoQpZTXn",
        "outputId": "068c7e4f-e540-4d0b-f92f-084c1c0bb165"
      },
      "execution_count": 23,
      "outputs": [
        {
          "output_type": "stream",
          "name": "stdout",
          "text": [
            "Insertion Sort with sorted input size 1000: 0.000466 seconds\n",
            "Merge Sort with sorted input size 1000: 0.008447 seconds\n",
            "Heap Sort with sorted input size 1000: 0.005984 seconds\n"
          ]
        },
        {
          "output_type": "error",
          "ename": "RecursionError",
          "evalue": "maximum recursion depth exceeded in comparison",
          "traceback": [
            "\u001b[0;31m---------------------------------------------------------------------------\u001b[0m",
            "\u001b[0;31mRecursionError\u001b[0m                            Traceback (most recent call last)",
            "\u001b[0;32m<ipython-input-23-dd1ba27a614d>\u001b[0m in \u001b[0;36m<cell line: 1>\u001b[0;34m()\u001b[0m\n\u001b[1;32m      6\u001b[0m                                  \u001b[0;34m(\u001b[0m\u001b[0;34m'In-Place Quicksort'\u001b[0m\u001b[0;34m,\u001b[0m \u001b[0;32mlambda\u001b[0m \u001b[0marr\u001b[0m\u001b[0;34m:\u001b[0m \u001b[0mquicksort\u001b[0m\u001b[0;34m(\u001b[0m\u001b[0marr\u001b[0m\u001b[0;34m,\u001b[0m \u001b[0;36m0\u001b[0m\u001b[0;34m,\u001b[0m \u001b[0mlen\u001b[0m\u001b[0;34m(\u001b[0m\u001b[0marr\u001b[0m\u001b[0;34m)\u001b[0m \u001b[0;34m-\u001b[0m \u001b[0;36m1\u001b[0m\u001b[0;34m)\u001b[0m\u001b[0;34m)\u001b[0m\u001b[0;34m,\u001b[0m\u001b[0;34m\u001b[0m\u001b[0;34m\u001b[0m\u001b[0m\n\u001b[1;32m      7\u001b[0m                                  ('Modified Quicksort', lambda arr: modified_quicksort(arr, 0, len(arr) - 1))]:\n\u001b[0;32m----> 8\u001b[0;31m         \u001b[0mtime_taken\u001b[0m \u001b[0;34m=\u001b[0m \u001b[0mmeasure_execution_time\u001b[0m\u001b[0;34m(\u001b[0m\u001b[0msort_func\u001b[0m\u001b[0;34m,\u001b[0m \u001b[0msorted_data\u001b[0m\u001b[0;34m.\u001b[0m\u001b[0mcopy\u001b[0m\u001b[0;34m(\u001b[0m\u001b[0;34m)\u001b[0m\u001b[0;34m)\u001b[0m\u001b[0;34m\u001b[0m\u001b[0;34m\u001b[0m\u001b[0m\n\u001b[0m\u001b[1;32m      9\u001b[0m         \u001b[0mprint\u001b[0m\u001b[0;34m(\u001b[0m\u001b[0;34mf'{sort_name} with sorted input size {size}: {time_taken:.6f} seconds'\u001b[0m\u001b[0;34m)\u001b[0m\u001b[0;34m\u001b[0m\u001b[0;34m\u001b[0m\u001b[0m\n",
            "\u001b[0;32m<ipython-input-21-e3cf16574829>\u001b[0m in \u001b[0;36mmeasure_execution_time\u001b[0;34m(sort_func, arr)\u001b[0m\n\u001b[1;32m      4\u001b[0m \u001b[0;32mdef\u001b[0m \u001b[0mmeasure_execution_time\u001b[0m\u001b[0;34m(\u001b[0m\u001b[0msort_func\u001b[0m\u001b[0;34m,\u001b[0m \u001b[0marr\u001b[0m\u001b[0;34m)\u001b[0m\u001b[0;34m:\u001b[0m\u001b[0;34m\u001b[0m\u001b[0;34m\u001b[0m\u001b[0m\n\u001b[1;32m      5\u001b[0m     \u001b[0mstart_time\u001b[0m \u001b[0;34m=\u001b[0m \u001b[0mtime\u001b[0m\u001b[0;34m.\u001b[0m\u001b[0mtime\u001b[0m\u001b[0;34m(\u001b[0m\u001b[0;34m)\u001b[0m\u001b[0;34m\u001b[0m\u001b[0;34m\u001b[0m\u001b[0m\n\u001b[0;32m----> 6\u001b[0;31m     \u001b[0msort_func\u001b[0m\u001b[0;34m(\u001b[0m\u001b[0marr\u001b[0m\u001b[0;34m)\u001b[0m\u001b[0;34m\u001b[0m\u001b[0;34m\u001b[0m\u001b[0m\n\u001b[0m\u001b[1;32m      7\u001b[0m     \u001b[0mend_time\u001b[0m \u001b[0;34m=\u001b[0m \u001b[0mtime\u001b[0m\u001b[0;34m.\u001b[0m\u001b[0mtime\u001b[0m\u001b[0;34m(\u001b[0m\u001b[0;34m)\u001b[0m\u001b[0;34m\u001b[0m\u001b[0;34m\u001b[0m\u001b[0m\n\u001b[1;32m      8\u001b[0m     \u001b[0;32mreturn\u001b[0m \u001b[0mend_time\u001b[0m \u001b[0;34m-\u001b[0m \u001b[0mstart_time\u001b[0m\u001b[0;34m\u001b[0m\u001b[0;34m\u001b[0m\u001b[0m\n",
            "\u001b[0;32m<ipython-input-23-dd1ba27a614d>\u001b[0m in \u001b[0;36m<lambda>\u001b[0;34m(arr)\u001b[0m\n\u001b[1;32m      4\u001b[0m                                  \u001b[0;34m(\u001b[0m\u001b[0;34m'Merge Sort'\u001b[0m\u001b[0;34m,\u001b[0m \u001b[0mmerge_sort\u001b[0m\u001b[0;34m)\u001b[0m\u001b[0;34m,\u001b[0m\u001b[0;34m\u001b[0m\u001b[0;34m\u001b[0m\u001b[0m\n\u001b[1;32m      5\u001b[0m                                  \u001b[0;34m(\u001b[0m\u001b[0;34m'Heap Sort'\u001b[0m\u001b[0;34m,\u001b[0m \u001b[0mheap_sort\u001b[0m\u001b[0;34m)\u001b[0m\u001b[0;34m,\u001b[0m\u001b[0;34m\u001b[0m\u001b[0;34m\u001b[0m\u001b[0m\n\u001b[0;32m----> 6\u001b[0;31m                                  \u001b[0;34m(\u001b[0m\u001b[0;34m'In-Place Quicksort'\u001b[0m\u001b[0;34m,\u001b[0m \u001b[0;32mlambda\u001b[0m \u001b[0marr\u001b[0m\u001b[0;34m:\u001b[0m \u001b[0mquicksort\u001b[0m\u001b[0;34m(\u001b[0m\u001b[0marr\u001b[0m\u001b[0;34m,\u001b[0m \u001b[0;36m0\u001b[0m\u001b[0;34m,\u001b[0m \u001b[0mlen\u001b[0m\u001b[0;34m(\u001b[0m\u001b[0marr\u001b[0m\u001b[0;34m)\u001b[0m \u001b[0;34m-\u001b[0m \u001b[0;36m1\u001b[0m\u001b[0;34m)\u001b[0m\u001b[0;34m)\u001b[0m\u001b[0;34m,\u001b[0m\u001b[0;34m\u001b[0m\u001b[0;34m\u001b[0m\u001b[0m\n\u001b[0m\u001b[1;32m      7\u001b[0m                                  ('Modified Quicksort', lambda arr: modified_quicksort(arr, 0, len(arr) - 1))]:\n\u001b[1;32m      8\u001b[0m         \u001b[0mtime_taken\u001b[0m \u001b[0;34m=\u001b[0m \u001b[0mmeasure_execution_time\u001b[0m\u001b[0;34m(\u001b[0m\u001b[0msort_func\u001b[0m\u001b[0;34m,\u001b[0m \u001b[0msorted_data\u001b[0m\u001b[0;34m.\u001b[0m\u001b[0mcopy\u001b[0m\u001b[0;34m(\u001b[0m\u001b[0;34m)\u001b[0m\u001b[0;34m)\u001b[0m\u001b[0;34m\u001b[0m\u001b[0;34m\u001b[0m\u001b[0m\n",
            "\u001b[0;32m<ipython-input-18-087a6944f529>\u001b[0m in \u001b[0;36mquicksort\u001b[0;34m(arr, low, high)\u001b[0m\n\u001b[1;32m     14\u001b[0m     \u001b[0;32mif\u001b[0m \u001b[0mlow\u001b[0m \u001b[0;34m<\u001b[0m \u001b[0mhigh\u001b[0m\u001b[0;34m:\u001b[0m\u001b[0;34m\u001b[0m\u001b[0;34m\u001b[0m\u001b[0m\n\u001b[1;32m     15\u001b[0m         \u001b[0mpi\u001b[0m \u001b[0;34m=\u001b[0m \u001b[0mpartition\u001b[0m\u001b[0;34m(\u001b[0m\u001b[0marr\u001b[0m\u001b[0;34m,\u001b[0m \u001b[0mlow\u001b[0m\u001b[0;34m,\u001b[0m \u001b[0mhigh\u001b[0m\u001b[0;34m)\u001b[0m\u001b[0;34m\u001b[0m\u001b[0;34m\u001b[0m\u001b[0m\n\u001b[0;32m---> 16\u001b[0;31m         \u001b[0mquicksort\u001b[0m\u001b[0;34m(\u001b[0m\u001b[0marr\u001b[0m\u001b[0;34m,\u001b[0m \u001b[0mlow\u001b[0m\u001b[0;34m,\u001b[0m \u001b[0mpi\u001b[0m \u001b[0;34m-\u001b[0m \u001b[0;36m1\u001b[0m\u001b[0;34m)\u001b[0m\u001b[0;34m\u001b[0m\u001b[0;34m\u001b[0m\u001b[0m\n\u001b[0m\u001b[1;32m     17\u001b[0m         \u001b[0mquicksort\u001b[0m\u001b[0;34m(\u001b[0m\u001b[0marr\u001b[0m\u001b[0;34m,\u001b[0m \u001b[0mpi\u001b[0m \u001b[0;34m+\u001b[0m \u001b[0;36m1\u001b[0m\u001b[0;34m,\u001b[0m \u001b[0mhigh\u001b[0m\u001b[0;34m)\u001b[0m\u001b[0;34m\u001b[0m\u001b[0;34m\u001b[0m\u001b[0m\n",
            "... last 1 frames repeated, from the frame below ...\n",
            "\u001b[0;32m<ipython-input-18-087a6944f529>\u001b[0m in \u001b[0;36mquicksort\u001b[0;34m(arr, low, high)\u001b[0m\n\u001b[1;32m     14\u001b[0m     \u001b[0;32mif\u001b[0m \u001b[0mlow\u001b[0m \u001b[0;34m<\u001b[0m \u001b[0mhigh\u001b[0m\u001b[0;34m:\u001b[0m\u001b[0;34m\u001b[0m\u001b[0;34m\u001b[0m\u001b[0m\n\u001b[1;32m     15\u001b[0m         \u001b[0mpi\u001b[0m \u001b[0;34m=\u001b[0m \u001b[0mpartition\u001b[0m\u001b[0;34m(\u001b[0m\u001b[0marr\u001b[0m\u001b[0;34m,\u001b[0m \u001b[0mlow\u001b[0m\u001b[0;34m,\u001b[0m \u001b[0mhigh\u001b[0m\u001b[0;34m)\u001b[0m\u001b[0;34m\u001b[0m\u001b[0;34m\u001b[0m\u001b[0m\n\u001b[0;32m---> 16\u001b[0;31m         \u001b[0mquicksort\u001b[0m\u001b[0;34m(\u001b[0m\u001b[0marr\u001b[0m\u001b[0;34m,\u001b[0m \u001b[0mlow\u001b[0m\u001b[0;34m,\u001b[0m \u001b[0mpi\u001b[0m \u001b[0;34m-\u001b[0m \u001b[0;36m1\u001b[0m\u001b[0;34m)\u001b[0m\u001b[0;34m\u001b[0m\u001b[0;34m\u001b[0m\u001b[0m\n\u001b[0m\u001b[1;32m     17\u001b[0m         \u001b[0mquicksort\u001b[0m\u001b[0;34m(\u001b[0m\u001b[0marr\u001b[0m\u001b[0;34m,\u001b[0m \u001b[0mpi\u001b[0m \u001b[0;34m+\u001b[0m \u001b[0;36m1\u001b[0m\u001b[0;34m,\u001b[0m \u001b[0mhigh\u001b[0m\u001b[0;34m)\u001b[0m\u001b[0;34m\u001b[0m\u001b[0;34m\u001b[0m\u001b[0m\n",
            "\u001b[0;31mRecursionError\u001b[0m: maximum recursion depth exceeded in comparison"
          ]
        }
      ]
    },
    {
      "cell_type": "markdown",
      "source": [
        "### Reversely Sorted Array"
      ],
      "metadata": {
        "id": "k_yQ3S53Zanu"
      }
    },
    {
      "cell_type": "code",
      "source": [
        "# For reversely sorted arrays\n",
        "for size in input_sizes:\n",
        "    reversed_data = list(range(size, 0, -1))\n",
        "    for sort_name, sort_func in [('Insertion Sort', insertion_sort),\n",
        "                                 ('Merge Sort', merge_sort),\n",
        "                                 ('Heap Sort', heap_sort),\n",
        "                                 ('In-Place Quicksort', lambda arr: quicksort(arr, 0, len(arr) - 1)),\n",
        "                                 ('Modified Quicksort', lambda arr: modified_quicksort(arr, 0, len(arr) - 1))]:\n",
        "        time_taken = measure_execution_time(sort_func, reversed_data.copy())\n",
        "        print(f'{sort_name} with reversed input size {size}: {time_taken:.6f} seconds')\n"
      ],
      "metadata": {
        "colab": {
          "base_uri": "https://localhost:8080/",
          "height": 436
        },
        "id": "oj5dSBVIZdeC",
        "outputId": "f0beb649-a0a7-4154-ba73-7208c829e4df"
      },
      "execution_count": 26,
      "outputs": [
        {
          "output_type": "stream",
          "name": "stdout",
          "text": [
            "Insertion Sort with reversed input size 1000: 0.088793 seconds\n",
            "Merge Sort with reversed input size 1000: 0.002881 seconds\n",
            "Heap Sort with reversed input size 1000: 0.004570 seconds\n"
          ]
        },
        {
          "output_type": "error",
          "ename": "RecursionError",
          "evalue": "maximum recursion depth exceeded in comparison",
          "traceback": [
            "\u001b[0;31m---------------------------------------------------------------------------\u001b[0m",
            "\u001b[0;31mRecursionError\u001b[0m                            Traceback (most recent call last)",
            "\u001b[0;32m<ipython-input-26-74916ca757c7>\u001b[0m in \u001b[0;36m<cell line: 2>\u001b[0;34m()\u001b[0m\n\u001b[1;32m      7\u001b[0m                                  \u001b[0;34m(\u001b[0m\u001b[0;34m'In-Place Quicksort'\u001b[0m\u001b[0;34m,\u001b[0m \u001b[0;32mlambda\u001b[0m \u001b[0marr\u001b[0m\u001b[0;34m:\u001b[0m \u001b[0mquicksort\u001b[0m\u001b[0;34m(\u001b[0m\u001b[0marr\u001b[0m\u001b[0;34m,\u001b[0m \u001b[0;36m0\u001b[0m\u001b[0;34m,\u001b[0m \u001b[0mlen\u001b[0m\u001b[0;34m(\u001b[0m\u001b[0marr\u001b[0m\u001b[0;34m)\u001b[0m \u001b[0;34m-\u001b[0m \u001b[0;36m1\u001b[0m\u001b[0;34m)\u001b[0m\u001b[0;34m)\u001b[0m\u001b[0;34m,\u001b[0m\u001b[0;34m\u001b[0m\u001b[0;34m\u001b[0m\u001b[0m\n\u001b[1;32m      8\u001b[0m                                  ('Modified Quicksort', lambda arr: modified_quicksort(arr, 0, len(arr) - 1))]:\n\u001b[0;32m----> 9\u001b[0;31m         \u001b[0mtime_taken\u001b[0m \u001b[0;34m=\u001b[0m \u001b[0mmeasure_execution_time\u001b[0m\u001b[0;34m(\u001b[0m\u001b[0msort_func\u001b[0m\u001b[0;34m,\u001b[0m \u001b[0mreversed_data\u001b[0m\u001b[0;34m.\u001b[0m\u001b[0mcopy\u001b[0m\u001b[0;34m(\u001b[0m\u001b[0;34m)\u001b[0m\u001b[0;34m)\u001b[0m\u001b[0;34m\u001b[0m\u001b[0;34m\u001b[0m\u001b[0m\n\u001b[0m\u001b[1;32m     10\u001b[0m         \u001b[0mprint\u001b[0m\u001b[0;34m(\u001b[0m\u001b[0;34mf'{sort_name} with reversed input size {size}: {time_taken:.6f} seconds'\u001b[0m\u001b[0;34m)\u001b[0m\u001b[0;34m\u001b[0m\u001b[0;34m\u001b[0m\u001b[0m\n",
            "\u001b[0;32m<ipython-input-21-e3cf16574829>\u001b[0m in \u001b[0;36mmeasure_execution_time\u001b[0;34m(sort_func, arr)\u001b[0m\n\u001b[1;32m      4\u001b[0m \u001b[0;32mdef\u001b[0m \u001b[0mmeasure_execution_time\u001b[0m\u001b[0;34m(\u001b[0m\u001b[0msort_func\u001b[0m\u001b[0;34m,\u001b[0m \u001b[0marr\u001b[0m\u001b[0;34m)\u001b[0m\u001b[0;34m:\u001b[0m\u001b[0;34m\u001b[0m\u001b[0;34m\u001b[0m\u001b[0m\n\u001b[1;32m      5\u001b[0m     \u001b[0mstart_time\u001b[0m \u001b[0;34m=\u001b[0m \u001b[0mtime\u001b[0m\u001b[0;34m.\u001b[0m\u001b[0mtime\u001b[0m\u001b[0;34m(\u001b[0m\u001b[0;34m)\u001b[0m\u001b[0;34m\u001b[0m\u001b[0;34m\u001b[0m\u001b[0m\n\u001b[0;32m----> 6\u001b[0;31m     \u001b[0msort_func\u001b[0m\u001b[0;34m(\u001b[0m\u001b[0marr\u001b[0m\u001b[0;34m)\u001b[0m\u001b[0;34m\u001b[0m\u001b[0;34m\u001b[0m\u001b[0m\n\u001b[0m\u001b[1;32m      7\u001b[0m     \u001b[0mend_time\u001b[0m \u001b[0;34m=\u001b[0m \u001b[0mtime\u001b[0m\u001b[0;34m.\u001b[0m\u001b[0mtime\u001b[0m\u001b[0;34m(\u001b[0m\u001b[0;34m)\u001b[0m\u001b[0;34m\u001b[0m\u001b[0;34m\u001b[0m\u001b[0m\n\u001b[1;32m      8\u001b[0m     \u001b[0;32mreturn\u001b[0m \u001b[0mend_time\u001b[0m \u001b[0;34m-\u001b[0m \u001b[0mstart_time\u001b[0m\u001b[0;34m\u001b[0m\u001b[0;34m\u001b[0m\u001b[0m\n",
            "\u001b[0;32m<ipython-input-26-74916ca757c7>\u001b[0m in \u001b[0;36m<lambda>\u001b[0;34m(arr)\u001b[0m\n\u001b[1;32m      5\u001b[0m                                  \u001b[0;34m(\u001b[0m\u001b[0;34m'Merge Sort'\u001b[0m\u001b[0;34m,\u001b[0m \u001b[0mmerge_sort\u001b[0m\u001b[0;34m)\u001b[0m\u001b[0;34m,\u001b[0m\u001b[0;34m\u001b[0m\u001b[0;34m\u001b[0m\u001b[0m\n\u001b[1;32m      6\u001b[0m                                  \u001b[0;34m(\u001b[0m\u001b[0;34m'Heap Sort'\u001b[0m\u001b[0;34m,\u001b[0m \u001b[0mheap_sort\u001b[0m\u001b[0;34m)\u001b[0m\u001b[0;34m,\u001b[0m\u001b[0;34m\u001b[0m\u001b[0;34m\u001b[0m\u001b[0m\n\u001b[0;32m----> 7\u001b[0;31m                                  \u001b[0;34m(\u001b[0m\u001b[0;34m'In-Place Quicksort'\u001b[0m\u001b[0;34m,\u001b[0m \u001b[0;32mlambda\u001b[0m \u001b[0marr\u001b[0m\u001b[0;34m:\u001b[0m \u001b[0mquicksort\u001b[0m\u001b[0;34m(\u001b[0m\u001b[0marr\u001b[0m\u001b[0;34m,\u001b[0m \u001b[0;36m0\u001b[0m\u001b[0;34m,\u001b[0m \u001b[0mlen\u001b[0m\u001b[0;34m(\u001b[0m\u001b[0marr\u001b[0m\u001b[0;34m)\u001b[0m \u001b[0;34m-\u001b[0m \u001b[0;36m1\u001b[0m\u001b[0;34m)\u001b[0m\u001b[0;34m)\u001b[0m\u001b[0;34m,\u001b[0m\u001b[0;34m\u001b[0m\u001b[0;34m\u001b[0m\u001b[0m\n\u001b[0m\u001b[1;32m      8\u001b[0m                                  ('Modified Quicksort', lambda arr: modified_quicksort(arr, 0, len(arr) - 1))]:\n\u001b[1;32m      9\u001b[0m         \u001b[0mtime_taken\u001b[0m \u001b[0;34m=\u001b[0m \u001b[0mmeasure_execution_time\u001b[0m\u001b[0;34m(\u001b[0m\u001b[0msort_func\u001b[0m\u001b[0;34m,\u001b[0m \u001b[0mreversed_data\u001b[0m\u001b[0;34m.\u001b[0m\u001b[0mcopy\u001b[0m\u001b[0;34m(\u001b[0m\u001b[0;34m)\u001b[0m\u001b[0;34m)\u001b[0m\u001b[0;34m\u001b[0m\u001b[0;34m\u001b[0m\u001b[0m\n",
            "\u001b[0;32m<ipython-input-18-087a6944f529>\u001b[0m in \u001b[0;36mquicksort\u001b[0;34m(arr, low, high)\u001b[0m\n\u001b[1;32m     15\u001b[0m         \u001b[0mpi\u001b[0m \u001b[0;34m=\u001b[0m \u001b[0mpartition\u001b[0m\u001b[0;34m(\u001b[0m\u001b[0marr\u001b[0m\u001b[0;34m,\u001b[0m \u001b[0mlow\u001b[0m\u001b[0;34m,\u001b[0m \u001b[0mhigh\u001b[0m\u001b[0;34m)\u001b[0m\u001b[0;34m\u001b[0m\u001b[0;34m\u001b[0m\u001b[0m\n\u001b[1;32m     16\u001b[0m         \u001b[0mquicksort\u001b[0m\u001b[0;34m(\u001b[0m\u001b[0marr\u001b[0m\u001b[0;34m,\u001b[0m \u001b[0mlow\u001b[0m\u001b[0;34m,\u001b[0m \u001b[0mpi\u001b[0m \u001b[0;34m-\u001b[0m \u001b[0;36m1\u001b[0m\u001b[0;34m)\u001b[0m\u001b[0;34m\u001b[0m\u001b[0;34m\u001b[0m\u001b[0m\n\u001b[0;32m---> 17\u001b[0;31m         \u001b[0mquicksort\u001b[0m\u001b[0;34m(\u001b[0m\u001b[0marr\u001b[0m\u001b[0;34m,\u001b[0m \u001b[0mpi\u001b[0m \u001b[0;34m+\u001b[0m \u001b[0;36m1\u001b[0m\u001b[0;34m,\u001b[0m \u001b[0mhigh\u001b[0m\u001b[0;34m)\u001b[0m\u001b[0;34m\u001b[0m\u001b[0;34m\u001b[0m\u001b[0m\n\u001b[0m",
            "\u001b[0;32m<ipython-input-18-087a6944f529>\u001b[0m in \u001b[0;36mquicksort\u001b[0;34m(arr, low, high)\u001b[0m\n\u001b[1;32m     14\u001b[0m     \u001b[0;32mif\u001b[0m \u001b[0mlow\u001b[0m \u001b[0;34m<\u001b[0m \u001b[0mhigh\u001b[0m\u001b[0;34m:\u001b[0m\u001b[0;34m\u001b[0m\u001b[0;34m\u001b[0m\u001b[0m\n\u001b[1;32m     15\u001b[0m         \u001b[0mpi\u001b[0m \u001b[0;34m=\u001b[0m \u001b[0mpartition\u001b[0m\u001b[0;34m(\u001b[0m\u001b[0marr\u001b[0m\u001b[0;34m,\u001b[0m \u001b[0mlow\u001b[0m\u001b[0;34m,\u001b[0m \u001b[0mhigh\u001b[0m\u001b[0;34m)\u001b[0m\u001b[0;34m\u001b[0m\u001b[0;34m\u001b[0m\u001b[0m\n\u001b[0;32m---> 16\u001b[0;31m         \u001b[0mquicksort\u001b[0m\u001b[0;34m(\u001b[0m\u001b[0marr\u001b[0m\u001b[0;34m,\u001b[0m \u001b[0mlow\u001b[0m\u001b[0;34m,\u001b[0m \u001b[0mpi\u001b[0m \u001b[0;34m-\u001b[0m \u001b[0;36m1\u001b[0m\u001b[0;34m)\u001b[0m\u001b[0;34m\u001b[0m\u001b[0;34m\u001b[0m\u001b[0m\n\u001b[0m\u001b[1;32m     17\u001b[0m         \u001b[0mquicksort\u001b[0m\u001b[0;34m(\u001b[0m\u001b[0marr\u001b[0m\u001b[0;34m,\u001b[0m \u001b[0mpi\u001b[0m \u001b[0;34m+\u001b[0m \u001b[0;36m1\u001b[0m\u001b[0;34m,\u001b[0m \u001b[0mhigh\u001b[0m\u001b[0;34m)\u001b[0m\u001b[0;34m\u001b[0m\u001b[0;34m\u001b[0m\u001b[0m\n",
            "... last 2 frames repeated, from the frame below ...\n",
            "\u001b[0;32m<ipython-input-18-087a6944f529>\u001b[0m in \u001b[0;36mquicksort\u001b[0;34m(arr, low, high)\u001b[0m\n\u001b[1;32m     15\u001b[0m         \u001b[0mpi\u001b[0m \u001b[0;34m=\u001b[0m \u001b[0mpartition\u001b[0m\u001b[0;34m(\u001b[0m\u001b[0marr\u001b[0m\u001b[0;34m,\u001b[0m \u001b[0mlow\u001b[0m\u001b[0;34m,\u001b[0m \u001b[0mhigh\u001b[0m\u001b[0;34m)\u001b[0m\u001b[0;34m\u001b[0m\u001b[0;34m\u001b[0m\u001b[0m\n\u001b[1;32m     16\u001b[0m         \u001b[0mquicksort\u001b[0m\u001b[0;34m(\u001b[0m\u001b[0marr\u001b[0m\u001b[0;34m,\u001b[0m \u001b[0mlow\u001b[0m\u001b[0;34m,\u001b[0m \u001b[0mpi\u001b[0m \u001b[0;34m-\u001b[0m \u001b[0;36m1\u001b[0m\u001b[0;34m)\u001b[0m\u001b[0;34m\u001b[0m\u001b[0;34m\u001b[0m\u001b[0m\n\u001b[0;32m---> 17\u001b[0;31m         \u001b[0mquicksort\u001b[0m\u001b[0;34m(\u001b[0m\u001b[0marr\u001b[0m\u001b[0;34m,\u001b[0m \u001b[0mpi\u001b[0m \u001b[0;34m+\u001b[0m \u001b[0;36m1\u001b[0m\u001b[0;34m,\u001b[0m \u001b[0mhigh\u001b[0m\u001b[0;34m)\u001b[0m\u001b[0;34m\u001b[0m\u001b[0;34m\u001b[0m\u001b[0m\n\u001b[0m",
            "\u001b[0;31mRecursionError\u001b[0m: maximum recursion depth exceeded in comparison"
          ]
        }
      ]
    },
    {
      "cell_type": "markdown",
      "source": [
        "## Conclusion\n",
        "\n",
        "\n",
        "Based on the analysis, we observe that Merge Sort, Heap Sort, and Quick Sort perform better than Insertion Sort for larger input sizes. Modified Quick Sort improves the performance of Quick Sort for smaller subproblems by using Insertion Sort for small subarrays. Overall, the choice of sorting algorithm can significantly impact performance depending on the input size and characteristics.\n",
        "\n",
        "\n"
      ],
      "metadata": {
        "id": "ASmcRIs1aC65"
      }
    }
  ]
}